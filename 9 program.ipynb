{
 "cells": [
  {
   "cell_type": "code",
   "execution_count": 5,
   "id": "f988e6b0",
   "metadata": {},
   "outputs": [
    {
     "name": "stdout",
     "output_type": "stream",
     "text": [
      "the probability that the number of pizza sales exceeds 80 in a day 0.7020046649522909\n"
     ]
    }
   ],
   "source": [
    "#Question 9\n",
    "from scipy import stats\n",
    "a=stats.poisson.cdf(80,76)\n",
    "print('the probability that the number of pizza sales exceeds 80 in a day',a)"
   ]
  },
  {
   "cell_type": "code",
   "execution_count": null,
   "id": "4dff7514",
   "metadata": {},
   "outputs": [],
   "source": []
  }
 ],
 "metadata": {
  "kernelspec": {
   "display_name": "Python 3 (ipykernel)",
   "language": "python",
   "name": "python3"
  },
  "language_info": {
   "codemirror_mode": {
    "name": "ipython",
    "version": 3
   },
   "file_extension": ".py",
   "mimetype": "text/x-python",
   "name": "python",
   "nbconvert_exporter": "python",
   "pygments_lexer": "ipython3",
   "version": "3.9.7"
  }
 },
 "nbformat": 4,
 "nbformat_minor": 5
}
